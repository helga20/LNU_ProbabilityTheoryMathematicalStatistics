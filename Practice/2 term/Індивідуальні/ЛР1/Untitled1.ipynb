{
 "cells": [
  {
   "cell_type": "code",
   "execution_count": 5,
   "id": "cf939e00",
   "metadata": {},
   "outputs": [
    {
     "name": "stdout",
     "output_type": "stream",
     "text": [
      "\n",
      "Умова: [12, 14, 15, 13, 17, 18, 19, 17, 20, 17, 16, 15, 15, 16, 18, 17, 14, 12, 16, 13, 13, 17, 18, 19, 17, 14, 15, 13, 17, 17, 20, 14, 15, 17, 18, 15, 16, 19, 17, 19]\n",
      "\n",
      "Варіаційний ряд: [12, 12, 13, 13, 13, 13, 14, 14, 14, 14, 15, 15, 15, 15, 15, 15, 16, 16, 16, 16, 17, 17, 17, 17, 17, 17, 17, 17, 17, 17, 18, 18, 18, 18, 19, 19, 19, 19, 20, 20]\n",
      "Частотна таблиця: значення-частота\n",
      "12     2\n",
      "13     4\n",
      "14     4\n",
      "15     6\n",
      "16     4\n",
      "17    10\n",
      "18     4\n",
      "19     4\n",
      "20     2\n",
      "dtype: int64\n"
     ]
    },
    {
     "data": {
      "image/png": "[encoded data removed]",
      "text/plain": [
       "<Figure size 432x288 with 1 Axes>"
      ]
     },
     "metadata": {
      "needs_background": "light"
     },
     "output_type": "display_data"
    },
    {
     "data": {
      "image/png": "[encoded data removed]",
      "text/plain": [
       "<Figure size 432x288 with 1 Axes>"
      ]
     },
     "metadata": {
      "needs_background": "light"
     },
     "output_type": "display_data"
    },
    {
     "name": "stdout",
     "output_type": "stream",
     "text": [
      "---Числові характеристики---\n",
      "Середнє арифметичне = 16.1\n",
      "Мода = 17\n",
      "Медіана = 16.5\n",
      "Девіація = 183.60000000000005\n",
      "Варіанса = 4.707692307692309\n",
      "Дисперсія = 4.590000000000002\n",
      "Стандарт = 2.1697217120387373\n",
      "Розмах = 8\n",
      "Варіація = 0.1347653237291141\n",
      "Середньоквадратичне відхилення = 2.1424285285628555\n",
      "Емпірична функція Fn(x)\n",
      " 12    0.05\n",
      "13    0.15\n",
      "14    0.25\n",
      "15    0.40\n",
      "16    0.50\n",
      "17    0.75\n",
      "18    0.85\n",
      "19    0.95\n",
      "20    1.00\n",
      "dtype: float64\n",
      "Довжина класу = 2.0\n",
      "[[12, 14.0], [14.0, 16.0], [16.0, 18.0], [18.0, 20.0]]\n"
     ]
    }
   ],
   "source": [
    "import numpy as np\n",
    "import pandas as pd\n",
    "from collections import Counter\n",
    "from random import randint\n",
    "import matplotlib.pyplot as plt\n",
    "import math \n",
    "%matplotlib inline\n",
    "\n",
    "mylist = [12,14,15,13,17,18,19,17,20,17,16,15,15,16,18,17,14,12,16,13,13,17,18,19,17,14,15,13,17,17,20,14,15,17,18,15,16,19,17,19]\n",
    "n = 40\n",
    "data = pd.Series(mylist)\n",
    "print(\"\\nУмова:\", data.tolist())\n",
    "'''\n",
    "a = int(input(\"Введіть a: \"))\n",
    "b = int(input(\"Введіть b: \"))\n",
    "n = int(input(\"Введіть n: \"))\n",
    "\n",
    "data = pd.Series(np.random.randint(a,b,size=n))\n",
    "print(\"\\nУмова:\", data.tolist())\n",
    "'''\n",
    "\n",
    "sort_data = sorted(data)\n",
    "print(\"\\nВаріаційний ряд:\", sort_data)\n",
    "\n",
    "print(\"Частотна таблиця: значення-частота\")\n",
    "table = data.value_counts().sort_index()\n",
    "print(table)\n",
    "\n",
    "fig = plt.figure()\n",
    "ax = fig.add_axes([0,0,1,1])\n",
    "ax.set_title('Діаграма частот')\n",
    "ax.set_ylabel('Частота значень')\n",
    "ax.set_xlabel('Значення')\n",
    "i = table.index\n",
    "v = table.values\n",
    "ax.bar(i,v, color ='maroon', width = 0.05)\n",
    "plt.show()\n",
    "\n",
    "plt.plot(i, v, c=\"maroon\")\n",
    "plt.title('Полігон частот')\n",
    "plt.xlabel('Частота значень')\n",
    "plt.ylabel('Значення')\n",
    "plt.show()\n",
    "\n",
    "print(\"---Числові характеристики---\")  \n",
    "\n",
    "avg_data = sum(data) / n\n",
    "print(\"Середнє арифметичне =\", avg_data)\n",
    "\n",
    "d = Counter(data)\n",
    "get_mode = dict(d)\n",
    "mode = [k for k, v in get_mode.items() if v == max(list(d.values()))]\n",
    "if len(mode) == n:\n",
    "    get_mode = \"Моду не знайдено\"\n",
    "else:\n",
    "    get_mode = \"Мода = \" + ', '.join(map(str, mode))\n",
    "print(get_mode)  \n",
    "\n",
    "if n%2 == 0:\n",
    "    median1 = sort_data[n//2]\n",
    "    median2 = sort_data[n//2 - 1]\n",
    "    median = (median1 + median2)/2\n",
    "else:\n",
    "    median = sort_data[n//2]\n",
    "print(\"Медіана =\", median)  \n",
    "\n",
    "def deviation(datas):\n",
    "    d = [(x - avg_data) ** 2 for x in datas]\n",
    "    return sum(d)\n",
    "print(\"Девіація =\", deviation(data))  \n",
    "\n",
    "def variance(datas):\n",
    "    return (deviation(data) / (n-1))\n",
    "print(\"Варіанса =\", variance(data))  \n",
    "\n",
    "def dyspersiia(datas):\n",
    "    return (deviation(data) / n)\n",
    "print(\"Дисперсія =\", dyspersiia(data))  \n",
    "\n",
    "def standart(datas):\n",
    "    return (+math.sqrt(variance(data)))\n",
    "print(\"Стандарт =\", standart(data)) \n",
    "\n",
    "p = max(data) - min(data) \n",
    "print(\"Розмах =\", p)\n",
    "\n",
    "def variation(datas):\n",
    "    return (standart(datas)/avg_data)\n",
    "print(\"Варіація =\", variation(data)) \n",
    "\n",
    "def standard_deviation(datas):\n",
    "    return (math.sqrt(dyspersiia(data)))\n",
    "print(\"Середньоквадратичне відхилення =\", standard_deviation(data))  \n",
    "\n",
    "def empirical_function(datas):\n",
    "    return np.cumsum(table)/ n\n",
    "print(\"Емпірична функція Fn(x)\\n\", empirical_function(data))\n",
    "\n",
    "#m = int(input(\"Введіть m: \"))\n",
    "m = 4\n",
    "d = p/m\n",
    "print(\"Довжина класу =\", d)\n",
    "\n",
    "intervals = []\n",
    "sum = min(data)\n",
    "while sum != max(data):\n",
    "    interval = []\n",
    "    interval.append(round(sum, 2))\n",
    "    sum+=d\n",
    "    interval.append(round(sum, 2))\n",
    "    intervals.append(interval)\n",
    "print(intervals)"
   ]
  },
  {
   "cell_type": "code",
   "execution_count": 82,
   "id": "a6557967",
   "metadata": {},
   "outputs": [
    {
     "name": "stdout",
     "output_type": "stream",
     "text": [
      "Частотна таблиця:\n",
      "   значення  частота\n",
      "0         1       12\n",
      "1         2       27\n",
      "2         3       32\n",
      "3         4       23\n",
      "4         5        6\n",
      "Середнє арифметичне (~x) = 2.84\n",
      "Девіація (dev) = 119.44\n",
      "Варіанса (s^2) = 1.2064646464646465\n",
      "Дисперсія (D) = 1.1944\n",
      "Стандарт (s) =  1.0983918455927495\n",
      "Варіація (v) =   0.38675769211012306\n",
      "Середньоквадратичне відхилення (σ) = 1.09288608738514\n",
      "pi = [0.52822, 0.3087, 0.1323, 0.02835, 0.00243]\n",
      "npi = [52.822, 30.869999999999997, 13.23, 2.835, 0.243]\n",
      "Критерій Пірсона (X^2) = 338.4854140927999\n"
     ]
    }
   ],
   "source": [
    "import numpy as np\n",
    "import pandas as pd\n",
    "from collections import Counter\n",
    "from random import randint\n",
    "import matplotlib.pyplot as plt\n",
    "import math \n",
    "from scipy.stats import binom\n",
    "%matplotlib inline\n",
    "\n",
    "\n",
    "mylist = [1,2,3,4,5]\n",
    "chastota = [12,27,32,23,6]\n",
    "n = sum(chastota)\n",
    "\n",
    "mylist = pd.Series(mylist, name='значення')\n",
    "chastota = pd.Series(chastota, name='частота')\n",
    "\n",
    "print(\"Частотна таблиця:\")\n",
    "\n",
    "data = pd.concat([mylist, chastota], axis=1)\n",
    "data = data.apply(pd.to_numeric)\n",
    "print(data)\n",
    "\n",
    "a_data = chastota * mylist\n",
    "avg_data = sum(a_data)/ int(n)\n",
    "print(\"Середнє арифметичне (~x) =\", avg_data)\n",
    "\n",
    "def deviation(datas):\n",
    "    d = chastota * (mylist - avg_data)**2\n",
    "    return sum(d)\n",
    "print(\"Девіація (dev) =\", deviation(data))  \n",
    "\n",
    "def variance(datas):\n",
    "    return (deviation(data) / (n-1))\n",
    "print(\"Варіанса (s^2) =\", variance(data))  \n",
    "\n",
    "def dyspersiia(datas):\n",
    "    return (deviation(data) / n)\n",
    "print(\"Дисперсія (D) =\", dyspersiia(data))  \n",
    "\n",
    "def standart(datas):\n",
    "    return (+math.sqrt(variance(data)))\n",
    "print(\"Стандарт (s) = \", standart(data)) \n",
    "\n",
    "def variation(datas):\n",
    "    return (standart(datas)/avg_data)\n",
    "print(\"Варіація (v) =  \", variation(data)) \n",
    "\n",
    "def standard_deviation(datas):\n",
    "    return (math.sqrt(dyspersiia(data)))\n",
    "print(\"Середньоквадратичне відхилення (σ) =\", standard_deviation(data)) \n",
    "\n",
    "pi = [0.52822,0.3087,0.1323,0.02835,0.00243]\n",
    "print(\"pi =\", pi)\n",
    "\n",
    "npi = [element * n for element in pi]\n",
    "print(\"npi =\", npi)\n",
    "\n",
    "def kryterii_pirsona(datas):\n",
    "    d = ((chastota - npi)**2)/(npi)\n",
    "    return sum(d)\n",
    "print(\"Критерій Пірсона (X^2) =\", kryterii_pirsona(data)) "
   ]
  },
  {
   "cell_type": "code",
   "execution_count": 83,
   "id": "4d91ebf2",
   "metadata": {},
   "outputs": [
    {
     "name": "stdout",
     "output_type": "stream",
     "text": [
      "Біномний розподіл:\n",
      "n\tp(n)\n",
      "0\t0.16806999999999994\n",
      "1\t0.3601499999999999\n",
      "2\t0.3086999999999998\n",
      "3\t0.1322999999999999\n",
      "4\t0.028349999999999986\n",
      "5\t0.0024299999999999994\n"
     ]
    }
   ],
   "source": [
    "from scipy.stats import binom\n",
    "def binomial_distribution(n_, p):\n",
    "    n_values = list(range(n_ + 1))\n",
    "    dist = [binom.pmf(r, n_, p) for r in n_values ]\n",
    "    print(\"Біномний розподіл:\")\n",
    "    print(\"n\\tp(n)\")\n",
    "    for i in range(n_ + 1):\n",
    "        print(str(n_values[i]) + \"\\t\" + str(dist[i]))\n",
    "binomial_distribution(5, 0.3)"
   ]
  },
  {
   "cell_type": "code",
   "execution_count": 10,
   "id": "599b7297",
   "metadata": {},
   "outputs": [
    {
     "name": "stdout",
     "output_type": "stream",
     "text": [
      "Інтервальний розподіл\n",
      "\n",
      "2   [12, 14.0]\n",
      "4   [14.0, 16.0]\n",
      "4   [16.0, 18.0]\n",
      "6   [18.0, 20.0]\n"
     ]
    }
   ],
   "source": [
    "print(\"Інтервальний розподіл\\n\")\n",
    "#t = data.value_counts().sort_index()\n",
    "r = \"\\n\".join(\"{}   {}\".format(x, y) for x, y in zip(table, intervals))\n",
    "print(r)"
   ]
  },
  {
   "cell_type": "code",
   "execution_count": 33,
   "id": "806114d2",
   "metadata": {},
   "outputs": [
    {
     "data": {
      "text/html": [
       "<div>\n",
       "<style scoped>\n",
       "    .dataframe tbody tr th:only-of-type {\n",
       "        vertical-align: middle;\n",
       "    }\n",
       "\n",
       "    .dataframe tbody tr th {\n",
       "        vertical-align: top;\n",
       "    }\n",
       "\n",
       "    .dataframe thead th {\n",
       "        text-align: right;\n",
       "    }\n",
       "</style>\n",
       "<table border=\"1\" class=\"dataframe\">\n",
       "  <thead>\n",
       "    <tr style=\"text-align: right;\">\n",
       "      <th></th>\n",
       "      <th>0</th>\n",
       "      <th>1</th>\n",
       "    </tr>\n",
       "  </thead>\n",
       "  <tbody>\n",
       "    <tr>\n",
       "      <th>xi</th>\n",
       "      <td>12.0</td>\n",
       "      <td>12.0</td>\n",
       "    </tr>\n",
       "    <tr>\n",
       "      <th>mi</th>\n",
       "      <td>11.0</td>\n",
       "      <td>32.0</td>\n",
       "    </tr>\n",
       "  </tbody>\n",
       "</table>\n",
       "</div>"
      ],
      "text/plain": [
       "       0     1\n",
       "xi  12.0  12.0\n",
       "mi  11.0  32.0"
      ]
     },
     "execution_count": 33,
     "metadata": {},
     "output_type": "execute_result"
    }
   ],
   "source": [
    "ar=np.array([[12.0, 12.0],[11.0, 32.0]])    \n",
    "df=pd.DataFrame(ar)\n",
    "df.index=[\"xi\", \"mi\"] \n",
    "df"
   ]
  },
  {
   "cell_type": "code",
   "execution_count": 32,
   "id": "9ab332b3",
   "metadata": {},
   "outputs": [
    {
     "data": {
      "text/html": [
       "<div>\n",
       "<style scoped>\n",
       "    .dataframe tbody tr th:only-of-type {\n",
       "        vertical-align: middle;\n",
       "    }\n",
       "\n",
       "    .dataframe tbody tr th {\n",
       "        vertical-align: top;\n",
       "    }\n",
       "\n",
       "    .dataframe thead th {\n",
       "        text-align: right;\n",
       "    }\n",
       "</style>\n",
       "<table border=\"1\" class=\"dataframe\">\n",
       "  <thead>\n",
       "    <tr style=\"text-align: right;\">\n",
       "      <th></th>\n",
       "      <th>0</th>\n",
       "      <th>1</th>\n",
       "    </tr>\n",
       "  </thead>\n",
       "  <tbody>\n",
       "    <tr>\n",
       "      <th>xi</th>\n",
       "      <td>1</td>\n",
       "      <td>2</td>\n",
       "    </tr>\n",
       "    <tr>\n",
       "      <th>mi</th>\n",
       "      <td>27</td>\n",
       "      <td>6</td>\n",
       "    </tr>\n",
       "  </tbody>\n",
       "</table>\n",
       "</div>"
      ],
      "text/plain": [
       "     0  1\n",
       "xi   1  2\n",
       "mi  27  6"
      ]
     },
     "execution_count": 32,
     "metadata": {},
     "output_type": "execute_result"
    }
   ],
   "source": []
  },
  {
   "cell_type": "code",
   "execution_count": 13,
   "id": "b0ba1cd9",
   "metadata": {},
   "outputs": [
    {
     "name": "stdout",
     "output_type": "stream",
     "text": [
      "Інтервальний розподіл\n",
      "\n",
      "1   [12, 14.0]\n",
      "1   [14.0, 16.0]\n",
      "1   [16.0, 18.0]\n",
      "1   [18.0, 20.0]\n"
     ]
    }
   ],
   "source": [
    "def count(list1 = []):\n",
    "    c = []   \n",
    "    for x in list1:\n",
    "        if x>= min(list1) and x<= max(list1):\n",
    "            #c+= list1.count(x)\n",
    "            l = list1.count(x)\n",
    "            c.append(l)\n",
    "    return c\n",
    "     \n",
    "print(\"Інтервальний розподіл\\n\")\n",
    "r = \"\\n\".join(\"{}   {}\".format(x, y) for x, y in zip(count(intervals), intervals))\n",
    "print(r)"
   ]
  },
  {
   "cell_type": "code",
   "execution_count": 14,
   "id": "e387ed2d",
   "metadata": {},
   "outputs": [
    {
     "name": "stdout",
     "output_type": "stream",
     "text": [
      "Інтервальний розподіл\n",
      "\n",
      "1   [12, 14.0]\n",
      "1   [14.0, 16.0]\n",
      "1   [16.0, 18.0]\n",
      "1   [18.0, 20.0]\n"
     ]
    }
   ],
   "source": [
    "def count(list1 = []):\n",
    "    c = []   \n",
    "    for x in list1:\n",
    "        if x>= min(list1) and x<= max(list1):\n",
    "            #c+= list1.count(x)\n",
    "            l = list1.count(x)\n",
    "            c.append(l)\n",
    "    return c\n",
    "     \n",
    "print(\"Інтервальний розподіл\\n\")\n",
    "r = \"\\n\".join(\"{}   {}\".format(x, y) for x, y in zip(count(intervals), intervals))\n",
    "print(r)"
   ]
  },
  {
   "cell_type": "code",
   "execution_count": null,
   "id": "5842dc9d",
   "metadata": {},
   "outputs": [],
   "source": []
  }
 ],
 "metadata": {
  "kernelspec": {
   "display_name": "Python 3 (ipykernel)",
   "language": "python",
   "name": "python3"
  },
  "language_info": {
   "codemirror_mode": {
    "name": "ipython",
    "version": 3
   },
   "file_extension": ".py",
   "mimetype": "text/x-python",
   "name": "python",
   "nbconvert_exporter": "python",
   "pygments_lexer": "ipython3",
   "version": "3.9.7"
  }
 },
 "nbformat": 4,
 "nbformat_minor": 5
}
